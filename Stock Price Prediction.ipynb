{
 "cells": [
  {
   "cell_type": "code",
   "execution_count": 25,
   "id": "d0fc10ef-e926-4e56-a41a-eb0a1cda3412",
   "metadata": {},
   "outputs": [
    {
     "name": "stdout",
     "output_type": "stream",
     "text": [
      "Collecting scikit-learn\n",
      "  Downloading scikit_learn-1.3.0-cp310-cp310-win_amd64.whl (9.2 MB)\n",
      "                                              0.0/9.2 MB ? eta -:--:--\n",
      "                                              0.0/9.2 MB ? eta -:--:--\n",
      "                                              0.0/9.2 MB ? eta -:--:--\n",
      "                                              0.0/9.2 MB ? eta -:--:--\n",
      "                                              0.0/9.2 MB ? eta -:--:--\n",
      "                                              0.1/9.2 MB 547.6 kB/s eta 0:00:17\n",
      "                                              0.1/9.2 MB 547.6 kB/s eta 0:00:17\n",
      "                                              0.1/9.2 MB 547.6 kB/s eta 0:00:17\n",
      "                                              0.1/9.2 MB 547.6 kB/s eta 0:00:17\n",
      "     -                                        0.2/9.2 MB 554.9 kB/s eta 0:00:17\n",
      "     -                                        0.2/9.2 MB 554.9 kB/s eta 0:00:17\n",
      "     -                                        0.2/9.2 MB 554.9 kB/s eta 0:00:17\n",
      "     -                                        0.2/9.2 MB 554.9 kB/s eta 0:00:17\n",
      "     --                                       0.5/9.2 MB 810.2 kB/s eta 0:00:11\n",
      "     --                                       0.5/9.2 MB 810.2 kB/s eta 0:00:11\n",
      "     --                                       0.5/9.2 MB 730.4 kB/s eta 0:00:12\n",
      "     --                                       0.6/9.2 MB 865.0 kB/s eta 0:00:10\n",
      "     ---                                      0.8/9.2 MB 996.7 kB/s eta 0:00:09\n",
      "     ---                                      0.8/9.2 MB 927.5 kB/s eta 0:00:10\n",
      "     ---                                      0.9/9.2 MB 1.0 MB/s eta 0:00:09\n",
      "     -----                                    1.2/9.2 MB 1.3 MB/s eta 0:00:07\n",
      "     -----                                    1.3/9.2 MB 1.4 MB/s eta 0:00:06\n",
      "     ------                                   1.4/9.2 MB 1.4 MB/s eta 0:00:06\n",
      "     -------                                  1.8/9.2 MB 1.6 MB/s eta 0:00:05\n",
      "     ---------                                2.2/9.2 MB 1.9 MB/s eta 0:00:04\n",
      "     ----------                               2.5/9.2 MB 2.1 MB/s eta 0:00:04\n",
      "     ------------                             2.8/9.2 MB 2.3 MB/s eta 0:00:03\n",
      "     -------------                            3.2/9.2 MB 2.6 MB/s eta 0:00:03\n",
      "     ---------------                          3.6/9.2 MB 2.8 MB/s eta 0:00:03\n",
      "     ----------------                         3.9/9.2 MB 2.9 MB/s eta 0:00:02\n",
      "     -------------------                      4.6/9.2 MB 3.3 MB/s eta 0:00:02\n",
      "     ----------------------                   5.1/9.2 MB 3.5 MB/s eta 0:00:02\n",
      "     ------------------------                 5.6/9.2 MB 3.7 MB/s eta 0:00:01\n",
      "     --------------------------               6.1/9.2 MB 4.0 MB/s eta 0:00:01\n",
      "     ----------------------------             6.5/9.2 MB 4.1 MB/s eta 0:00:01\n",
      "     ------------------------------           6.9/9.2 MB 4.3 MB/s eta 0:00:01\n",
      "     -------------------------------          7.4/9.2 MB 4.4 MB/s eta 0:00:01\n",
      "     ---------------------------------        7.8/9.2 MB 4.5 MB/s eta 0:00:01\n",
      "     -----------------------------------      8.2/9.2 MB 4.6 MB/s eta 0:00:01\n",
      "     ------------------------------------     8.5/9.2 MB 4.7 MB/s eta 0:00:01\n",
      "     ---------------------------------------  9.1/9.2 MB 4.9 MB/s eta 0:00:01\n",
      "     ---------------------------------------  9.2/9.2 MB 4.9 MB/s eta 0:00:01\n",
      "     ---------------------------------------- 9.2/9.2 MB 4.8 MB/s eta 0:00:00\n",
      "Requirement already satisfied: numpy>=1.17.3 in c:\\anaconda\\lib\\site-packages (from scikit-learn) (1.25.0)\n",
      "Requirement already satisfied: scipy>=1.5.0 in c:\\anaconda\\lib\\site-packages (from scikit-learn) (1.10.1)\n",
      "Collecting joblib>=1.1.1 (from scikit-learn)\n",
      "  Downloading joblib-1.3.1-py3-none-any.whl (301 kB)\n",
      "                                              0.0/302.0 kB ? eta -:--:--\n",
      "     -------------------------------------- 302.0/302.0 kB 9.1 MB/s eta 0:00:00\n",
      "Collecting threadpoolctl>=2.0.0 (from scikit-learn)\n",
      "  Downloading threadpoolctl-3.2.0-py3-none-any.whl (15 kB)\n",
      "Installing collected packages: threadpoolctl, joblib, scikit-learn\n",
      "Successfully installed joblib-1.3.1 scikit-learn-1.3.0 threadpoolctl-3.2.0\n"
     ]
    }
   ],
   "source": [
    "!pip install scikit-learn"
   ]
  },
  {
   "cell_type": "code",
   "execution_count": 26,
   "id": "106f3bbe",
   "metadata": {},
   "outputs": [],
   "source": [
    "import pandas as pd\n",
    "import numpy as np\n",
    "import matplotlib.pyplot as plt\n",
    "from sklearn.preprocessing import MinMaxScaler\n"
   ]
  },
  {
   "cell_type": "code",
   "execution_count": 11,
   "id": "8a673173",
   "metadata": {},
   "outputs": [],
   "source": [
    "df= pd.read_csv(r'https://raw.githubusercontent.com/mwitiderrick/stockprice/master/NSE-TATAGLOBAL.csv')"
   ]
  },
  {
   "cell_type": "code",
   "execution_count": 12,
   "id": "5ab7df46",
   "metadata": {},
   "outputs": [
    {
     "data": {
      "text/html": [
       "<div>\n",
       "<style scoped>\n",
       "    .dataframe tbody tr th:only-of-type {\n",
       "        vertical-align: middle;\n",
       "    }\n",
       "\n",
       "    .dataframe tbody tr th {\n",
       "        vertical-align: top;\n",
       "    }\n",
       "\n",
       "    .dataframe thead th {\n",
       "        text-align: right;\n",
       "    }\n",
       "</style>\n",
       "<table border=\"1\" class=\"dataframe\">\n",
       "  <thead>\n",
       "    <tr style=\"text-align: right;\">\n",
       "      <th></th>\n",
       "      <th>Date</th>\n",
       "      <th>Open</th>\n",
       "      <th>High</th>\n",
       "      <th>Low</th>\n",
       "      <th>Last</th>\n",
       "      <th>Close</th>\n",
       "      <th>Total Trade Quantity</th>\n",
       "      <th>Turnover (Lacs)</th>\n",
       "    </tr>\n",
       "  </thead>\n",
       "  <tbody>\n",
       "    <tr>\n",
       "      <th>0</th>\n",
       "      <td>2018-09-28</td>\n",
       "      <td>234.05</td>\n",
       "      <td>235.95</td>\n",
       "      <td>230.20</td>\n",
       "      <td>233.50</td>\n",
       "      <td>233.75</td>\n",
       "      <td>3069914</td>\n",
       "      <td>7162.35</td>\n",
       "    </tr>\n",
       "    <tr>\n",
       "      <th>1</th>\n",
       "      <td>2018-09-27</td>\n",
       "      <td>234.55</td>\n",
       "      <td>236.80</td>\n",
       "      <td>231.10</td>\n",
       "      <td>233.80</td>\n",
       "      <td>233.25</td>\n",
       "      <td>5082859</td>\n",
       "      <td>11859.95</td>\n",
       "    </tr>\n",
       "    <tr>\n",
       "      <th>2</th>\n",
       "      <td>2018-09-26</td>\n",
       "      <td>240.00</td>\n",
       "      <td>240.00</td>\n",
       "      <td>232.50</td>\n",
       "      <td>235.00</td>\n",
       "      <td>234.25</td>\n",
       "      <td>2240909</td>\n",
       "      <td>5248.60</td>\n",
       "    </tr>\n",
       "    <tr>\n",
       "      <th>3</th>\n",
       "      <td>2018-09-25</td>\n",
       "      <td>233.30</td>\n",
       "      <td>236.75</td>\n",
       "      <td>232.00</td>\n",
       "      <td>236.25</td>\n",
       "      <td>236.10</td>\n",
       "      <td>2349368</td>\n",
       "      <td>5503.90</td>\n",
       "    </tr>\n",
       "    <tr>\n",
       "      <th>4</th>\n",
       "      <td>2018-09-24</td>\n",
       "      <td>233.55</td>\n",
       "      <td>239.20</td>\n",
       "      <td>230.75</td>\n",
       "      <td>234.00</td>\n",
       "      <td>233.30</td>\n",
       "      <td>3423509</td>\n",
       "      <td>7999.55</td>\n",
       "    </tr>\n",
       "  </tbody>\n",
       "</table>\n",
       "</div>"
      ],
      "text/plain": [
       "         Date    Open    High     Low    Last   Close  Total Trade Quantity  \\\n",
       "0  2018-09-28  234.05  235.95  230.20  233.50  233.75               3069914   \n",
       "1  2018-09-27  234.55  236.80  231.10  233.80  233.25               5082859   \n",
       "2  2018-09-26  240.00  240.00  232.50  235.00  234.25               2240909   \n",
       "3  2018-09-25  233.30  236.75  232.00  236.25  236.10               2349368   \n",
       "4  2018-09-24  233.55  239.20  230.75  234.00  233.30               3423509   \n",
       "\n",
       "   Turnover (Lacs)  \n",
       "0          7162.35  \n",
       "1         11859.95  \n",
       "2          5248.60  \n",
       "3          5503.90  \n",
       "4          7999.55  "
      ]
     },
     "execution_count": 12,
     "metadata": {},
     "output_type": "execute_result"
    }
   ],
   "source": [
    "df.head()\n"
   ]
  },
  {
   "cell_type": "code",
   "execution_count": 13,
   "id": "fd53c91a",
   "metadata": {},
   "outputs": [
    {
     "data": {
      "text/html": [
       "<div>\n",
       "<style scoped>\n",
       "    .dataframe tbody tr th:only-of-type {\n",
       "        vertical-align: middle;\n",
       "    }\n",
       "\n",
       "    .dataframe tbody tr th {\n",
       "        vertical-align: top;\n",
       "    }\n",
       "\n",
       "    .dataframe thead th {\n",
       "        text-align: right;\n",
       "    }\n",
       "</style>\n",
       "<table border=\"1\" class=\"dataframe\">\n",
       "  <thead>\n",
       "    <tr style=\"text-align: right;\">\n",
       "      <th></th>\n",
       "      <th>Open</th>\n",
       "      <th>High</th>\n",
       "      <th>Low</th>\n",
       "      <th>Last</th>\n",
       "      <th>Close</th>\n",
       "      <th>Total Trade Quantity</th>\n",
       "      <th>Turnover (Lacs)</th>\n",
       "    </tr>\n",
       "  </thead>\n",
       "  <tbody>\n",
       "    <tr>\n",
       "      <th>count</th>\n",
       "      <td>2035.000000</td>\n",
       "      <td>2035.000000</td>\n",
       "      <td>2035.000000</td>\n",
       "      <td>2035.000000</td>\n",
       "      <td>2035.00000</td>\n",
       "      <td>2.035000e+03</td>\n",
       "      <td>2035.000000</td>\n",
       "    </tr>\n",
       "    <tr>\n",
       "      <th>mean</th>\n",
       "      <td>149.713735</td>\n",
       "      <td>151.992826</td>\n",
       "      <td>147.293931</td>\n",
       "      <td>149.474251</td>\n",
       "      <td>149.45027</td>\n",
       "      <td>2.335681e+06</td>\n",
       "      <td>3899.980565</td>\n",
       "    </tr>\n",
       "    <tr>\n",
       "      <th>std</th>\n",
       "      <td>48.664509</td>\n",
       "      <td>49.413109</td>\n",
       "      <td>47.931958</td>\n",
       "      <td>48.732570</td>\n",
       "      <td>48.71204</td>\n",
       "      <td>2.091778e+06</td>\n",
       "      <td>4570.767877</td>\n",
       "    </tr>\n",
       "    <tr>\n",
       "      <th>min</th>\n",
       "      <td>81.100000</td>\n",
       "      <td>82.800000</td>\n",
       "      <td>80.000000</td>\n",
       "      <td>81.000000</td>\n",
       "      <td>80.95000</td>\n",
       "      <td>3.961000e+04</td>\n",
       "      <td>37.040000</td>\n",
       "    </tr>\n",
       "    <tr>\n",
       "      <th>25%</th>\n",
       "      <td>120.025000</td>\n",
       "      <td>122.100000</td>\n",
       "      <td>118.300000</td>\n",
       "      <td>120.075000</td>\n",
       "      <td>120.05000</td>\n",
       "      <td>1.146444e+06</td>\n",
       "      <td>1427.460000</td>\n",
       "    </tr>\n",
       "    <tr>\n",
       "      <th>50%</th>\n",
       "      <td>141.500000</td>\n",
       "      <td>143.400000</td>\n",
       "      <td>139.600000</td>\n",
       "      <td>141.100000</td>\n",
       "      <td>141.25000</td>\n",
       "      <td>1.783456e+06</td>\n",
       "      <td>2512.030000</td>\n",
       "    </tr>\n",
       "    <tr>\n",
       "      <th>75%</th>\n",
       "      <td>157.175000</td>\n",
       "      <td>159.400000</td>\n",
       "      <td>155.150000</td>\n",
       "      <td>156.925000</td>\n",
       "      <td>156.90000</td>\n",
       "      <td>2.813594e+06</td>\n",
       "      <td>4539.015000</td>\n",
       "    </tr>\n",
       "    <tr>\n",
       "      <th>max</th>\n",
       "      <td>327.700000</td>\n",
       "      <td>328.750000</td>\n",
       "      <td>321.650000</td>\n",
       "      <td>325.950000</td>\n",
       "      <td>325.75000</td>\n",
       "      <td>2.919102e+07</td>\n",
       "      <td>55755.080000</td>\n",
       "    </tr>\n",
       "  </tbody>\n",
       "</table>\n",
       "</div>"
      ],
      "text/plain": [
       "              Open         High          Low         Last       Close  \\\n",
       "count  2035.000000  2035.000000  2035.000000  2035.000000  2035.00000   \n",
       "mean    149.713735   151.992826   147.293931   149.474251   149.45027   \n",
       "std      48.664509    49.413109    47.931958    48.732570    48.71204   \n",
       "min      81.100000    82.800000    80.000000    81.000000    80.95000   \n",
       "25%     120.025000   122.100000   118.300000   120.075000   120.05000   \n",
       "50%     141.500000   143.400000   139.600000   141.100000   141.25000   \n",
       "75%     157.175000   159.400000   155.150000   156.925000   156.90000   \n",
       "max     327.700000   328.750000   321.650000   325.950000   325.75000   \n",
       "\n",
       "       Total Trade Quantity  Turnover (Lacs)  \n",
       "count          2.035000e+03      2035.000000  \n",
       "mean           2.335681e+06      3899.980565  \n",
       "std            2.091778e+06      4570.767877  \n",
       "min            3.961000e+04        37.040000  \n",
       "25%            1.146444e+06      1427.460000  \n",
       "50%            1.783456e+06      2512.030000  \n",
       "75%            2.813594e+06      4539.015000  \n",
       "max            2.919102e+07     55755.080000  "
      ]
     },
     "execution_count": 13,
     "metadata": {},
     "output_type": "execute_result"
    }
   ],
   "source": [
    "df.describe()"
   ]
  },
  {
   "cell_type": "code",
   "execution_count": 14,
   "id": "99c1d7d9",
   "metadata": {},
   "outputs": [
    {
     "data": {
      "text/plain": [
       "(2035, 8)"
      ]
     },
     "execution_count": 14,
     "metadata": {},
     "output_type": "execute_result"
    }
   ],
   "source": [
    "df.shape"
   ]
  },
  {
   "cell_type": "code",
   "execution_count": 15,
   "id": "66ffb161",
   "metadata": {},
   "outputs": [
    {
     "data": {
      "text/plain": [
       "<bound method DataFrame.info of             Date    Open    High     Low    Last   Close  \\\n",
       "0     2018-09-28  234.05  235.95  230.20  233.50  233.75   \n",
       "1     2018-09-27  234.55  236.80  231.10  233.80  233.25   \n",
       "2     2018-09-26  240.00  240.00  232.50  235.00  234.25   \n",
       "3     2018-09-25  233.30  236.75  232.00  236.25  236.10   \n",
       "4     2018-09-24  233.55  239.20  230.75  234.00  233.30   \n",
       "...          ...     ...     ...     ...     ...     ...   \n",
       "2030  2010-07-27  117.60  119.50  112.00  118.80  118.65   \n",
       "2031  2010-07-26  120.10  121.00  117.10  117.10  117.60   \n",
       "2032  2010-07-23  121.80  121.95  120.25  120.35  120.65   \n",
       "2033  2010-07-22  120.30  122.00  120.25  120.75  120.90   \n",
       "2034  2010-07-21  122.10  123.00  121.05  121.10  121.55   \n",
       "\n",
       "      Total Trade Quantity  Turnover (Lacs)  \n",
       "0                  3069914          7162.35  \n",
       "1                  5082859         11859.95  \n",
       "2                  2240909          5248.60  \n",
       "3                  2349368          5503.90  \n",
       "4                  3423509          7999.55  \n",
       "...                    ...              ...  \n",
       "2030                586100           694.98  \n",
       "2031                658440           780.01  \n",
       "2032                281312           340.31  \n",
       "2033                293312           355.17  \n",
       "2034                658666           803.56  \n",
       "\n",
       "[2035 rows x 8 columns]>"
      ]
     },
     "execution_count": 15,
     "metadata": {},
     "output_type": "execute_result"
    }
   ],
   "source": [
    "df.info"
   ]
  },
  {
   "cell_type": "code",
   "execution_count": 16,
   "id": "c7c775b2",
   "metadata": {},
   "outputs": [
    {
     "data": {
      "text/html": [
       "<div>\n",
       "<style scoped>\n",
       "    .dataframe tbody tr th:only-of-type {\n",
       "        vertical-align: middle;\n",
       "    }\n",
       "\n",
       "    .dataframe tbody tr th {\n",
       "        vertical-align: top;\n",
       "    }\n",
       "\n",
       "    .dataframe thead th {\n",
       "        text-align: right;\n",
       "    }\n",
       "</style>\n",
       "<table border=\"1\" class=\"dataframe\">\n",
       "  <thead>\n",
       "    <tr style=\"text-align: right;\">\n",
       "      <th></th>\n",
       "      <th>Date</th>\n",
       "      <th>Open</th>\n",
       "      <th>High</th>\n",
       "      <th>Low</th>\n",
       "      <th>Last</th>\n",
       "      <th>Close</th>\n",
       "      <th>Total Trade Quantity</th>\n",
       "      <th>Turnover (Lacs)</th>\n",
       "    </tr>\n",
       "  </thead>\n",
       "  <tbody>\n",
       "    <tr>\n",
       "      <th>0</th>\n",
       "      <td>2018-09-28</td>\n",
       "      <td>234.05</td>\n",
       "      <td>235.95</td>\n",
       "      <td>230.20</td>\n",
       "      <td>233.50</td>\n",
       "      <td>233.75</td>\n",
       "      <td>3069914</td>\n",
       "      <td>7162.35</td>\n",
       "    </tr>\n",
       "    <tr>\n",
       "      <th>1</th>\n",
       "      <td>2018-09-27</td>\n",
       "      <td>234.55</td>\n",
       "      <td>236.80</td>\n",
       "      <td>231.10</td>\n",
       "      <td>233.80</td>\n",
       "      <td>233.25</td>\n",
       "      <td>5082859</td>\n",
       "      <td>11859.95</td>\n",
       "    </tr>\n",
       "    <tr>\n",
       "      <th>2</th>\n",
       "      <td>2018-09-26</td>\n",
       "      <td>240.00</td>\n",
       "      <td>240.00</td>\n",
       "      <td>232.50</td>\n",
       "      <td>235.00</td>\n",
       "      <td>234.25</td>\n",
       "      <td>2240909</td>\n",
       "      <td>5248.60</td>\n",
       "    </tr>\n",
       "    <tr>\n",
       "      <th>3</th>\n",
       "      <td>2018-09-25</td>\n",
       "      <td>233.30</td>\n",
       "      <td>236.75</td>\n",
       "      <td>232.00</td>\n",
       "      <td>236.25</td>\n",
       "      <td>236.10</td>\n",
       "      <td>2349368</td>\n",
       "      <td>5503.90</td>\n",
       "    </tr>\n",
       "    <tr>\n",
       "      <th>4</th>\n",
       "      <td>2018-09-24</td>\n",
       "      <td>233.55</td>\n",
       "      <td>239.20</td>\n",
       "      <td>230.75</td>\n",
       "      <td>234.00</td>\n",
       "      <td>233.30</td>\n",
       "      <td>3423509</td>\n",
       "      <td>7999.55</td>\n",
       "    </tr>\n",
       "  </tbody>\n",
       "</table>\n",
       "</div>"
      ],
      "text/plain": [
       "         Date    Open    High     Low    Last   Close  Total Trade Quantity  \\\n",
       "0  2018-09-28  234.05  235.95  230.20  233.50  233.75               3069914   \n",
       "1  2018-09-27  234.55  236.80  231.10  233.80  233.25               5082859   \n",
       "2  2018-09-26  240.00  240.00  232.50  235.00  234.25               2240909   \n",
       "3  2018-09-25  233.30  236.75  232.00  236.25  236.10               2349368   \n",
       "4  2018-09-24  233.55  239.20  230.75  234.00  233.30               3423509   \n",
       "\n",
       "   Turnover (Lacs)  \n",
       "0          7162.35  \n",
       "1         11859.95  \n",
       "2          5248.60  \n",
       "3          5503.90  \n",
       "4          7999.55  "
      ]
     },
     "execution_count": 16,
     "metadata": {},
     "output_type": "execute_result"
    }
   ],
   "source": [
    "df.head()"
   ]
  },
  {
   "cell_type": "code",
   "execution_count": 17,
   "id": "9d050b0e",
   "metadata": {},
   "outputs": [
    {
     "data": {
      "text/plain": [
       "Date                    0\n",
       "Open                    0\n",
       "High                    0\n",
       "Low                     0\n",
       "Last                    0\n",
       "Close                   0\n",
       "Total Trade Quantity    0\n",
       "Turnover (Lacs)         0\n",
       "dtype: int64"
      ]
     },
     "execution_count": 17,
     "metadata": {},
     "output_type": "execute_result"
    }
   ],
   "source": [
    "df.isnull().sum()"
   ]
  },
  {
   "cell_type": "code",
   "execution_count": 18,
   "id": "5d61e986",
   "metadata": {},
   "outputs": [],
   "source": [
    "new_df= pd.read_csv(r'https://raw.githubusercontent.com/mwitiderrick/stockprice/master/NSE-TATAGLOBAL.csv', parse_dates=['Date'])"
   ]
  },
  {
   "cell_type": "markdown",
   "id": "e0fcf1bb",
   "metadata": {},
   "source": [
    "sorting data\n"
   ]
  },
  {
   "cell_type": "code",
   "execution_count": 19,
   "id": "284ef837",
   "metadata": {},
   "outputs": [
    {
     "name": "stdout",
     "output_type": "stream",
     "text": [
      "<class 'pandas._libs.tslibs.timestamps.Timestamp'>\n"
     ]
    }
   ],
   "source": [
    "new_df['Date']= pd.to_datetime(new_df['Date'], errors='coerce')\n",
    "print (type(new_df.Date[0]))"
   ]
  },
  {
   "cell_type": "code",
   "execution_count": 20,
   "id": "38d72451",
   "metadata": {},
   "outputs": [
    {
     "data": {
      "text/plain": [
       "2034   2010-07-21\n",
       "2033   2010-07-22\n",
       "2032   2010-07-23\n",
       "2031   2010-07-26\n",
       "2030   2010-07-27\n",
       "Name: Date, dtype: datetime64[ns]"
      ]
     },
     "execution_count": 20,
     "metadata": {},
     "output_type": "execute_result"
    }
   ],
   "source": [
    "new_df.sort_values(by=['Date'], inplace=True, ascending=True)\n",
    "new_df.Date.head()"
   ]
  },
  {
   "cell_type": "markdown",
   "id": "1a9794d3",
   "metadata": {},
   "source": [
    "Data visualization"
   ]
  },
  {
   "cell_type": "code",
   "execution_count": 27,
   "id": "49d2399a",
   "metadata": {},
   "outputs": [
    {
     "data": {
      "text/plain": [
       "<matplotlib.collections.PathCollection at 0x1f9fafc3190>"
      ]
     },
     "execution_count": 27,
     "metadata": {},
     "output_type": "execute_result"
    },
    {
     "data": {
      "image/png": "[encoded data removed]",
      "text/plain": [
       "<Figure size 640x480 with 1 Axes>"
      ]
     },
     "metadata": {},
     "output_type": "display_data"
    }
   ],
   "source": [
    "fig,ax=plt.subplots()\n",
    "ax.scatter(new_df.Date, new_df.Close)"
   ]
  },
  {
   "cell_type": "code",
   "execution_count": 28,
   "id": "a5e2052c",
   "metadata": {},
   "outputs": [
    {
     "data": {
      "text/html": [
       "<div>\n",
       "<style scoped>\n",
       "    .dataframe tbody tr th:only-of-type {\n",
       "        vertical-align: middle;\n",
       "    }\n",
       "\n",
       "    .dataframe tbody tr th {\n",
       "        vertical-align: top;\n",
       "    }\n",
       "\n",
       "    .dataframe thead th {\n",
       "        text-align: right;\n",
       "    }\n",
       "</style>\n",
       "<table border=\"1\" class=\"dataframe\">\n",
       "  <thead>\n",
       "    <tr style=\"text-align: right;\">\n",
       "      <th></th>\n",
       "      <th>index</th>\n",
       "      <th>Date</th>\n",
       "      <th>Open</th>\n",
       "      <th>High</th>\n",
       "      <th>Low</th>\n",
       "      <th>Last</th>\n",
       "      <th>Close</th>\n",
       "      <th>Total Trade Quantity</th>\n",
       "      <th>Turnover (Lacs)</th>\n",
       "    </tr>\n",
       "  </thead>\n",
       "  <tbody>\n",
       "    <tr>\n",
       "      <th>0</th>\n",
       "      <td>2034</td>\n",
       "      <td>2010-07-21</td>\n",
       "      <td>122.10</td>\n",
       "      <td>123.00</td>\n",
       "      <td>121.05</td>\n",
       "      <td>121.10</td>\n",
       "      <td>121.55</td>\n",
       "      <td>658666</td>\n",
       "      <td>803.56</td>\n",
       "    </tr>\n",
       "    <tr>\n",
       "      <th>1</th>\n",
       "      <td>2033</td>\n",
       "      <td>2010-07-22</td>\n",
       "      <td>120.30</td>\n",
       "      <td>122.00</td>\n",
       "      <td>120.25</td>\n",
       "      <td>120.75</td>\n",
       "      <td>120.90</td>\n",
       "      <td>293312</td>\n",
       "      <td>355.17</td>\n",
       "    </tr>\n",
       "    <tr>\n",
       "      <th>2</th>\n",
       "      <td>2032</td>\n",
       "      <td>2010-07-23</td>\n",
       "      <td>121.80</td>\n",
       "      <td>121.95</td>\n",
       "      <td>120.25</td>\n",
       "      <td>120.35</td>\n",
       "      <td>120.65</td>\n",
       "      <td>281312</td>\n",
       "      <td>340.31</td>\n",
       "    </tr>\n",
       "    <tr>\n",
       "      <th>3</th>\n",
       "      <td>2031</td>\n",
       "      <td>2010-07-26</td>\n",
       "      <td>120.10</td>\n",
       "      <td>121.00</td>\n",
       "      <td>117.10</td>\n",
       "      <td>117.10</td>\n",
       "      <td>117.60</td>\n",
       "      <td>658440</td>\n",
       "      <td>780.01</td>\n",
       "    </tr>\n",
       "    <tr>\n",
       "      <th>4</th>\n",
       "      <td>2030</td>\n",
       "      <td>2010-07-27</td>\n",
       "      <td>117.60</td>\n",
       "      <td>119.50</td>\n",
       "      <td>112.00</td>\n",
       "      <td>118.80</td>\n",
       "      <td>118.65</td>\n",
       "      <td>586100</td>\n",
       "      <td>694.98</td>\n",
       "    </tr>\n",
       "    <tr>\n",
       "      <th>...</th>\n",
       "      <td>...</td>\n",
       "      <td>...</td>\n",
       "      <td>...</td>\n",
       "      <td>...</td>\n",
       "      <td>...</td>\n",
       "      <td>...</td>\n",
       "      <td>...</td>\n",
       "      <td>...</td>\n",
       "      <td>...</td>\n",
       "    </tr>\n",
       "    <tr>\n",
       "      <th>2030</th>\n",
       "      <td>4</td>\n",
       "      <td>2018-09-24</td>\n",
       "      <td>233.55</td>\n",
       "      <td>239.20</td>\n",
       "      <td>230.75</td>\n",
       "      <td>234.00</td>\n",
       "      <td>233.30</td>\n",
       "      <td>3423509</td>\n",
       "      <td>7999.55</td>\n",
       "    </tr>\n",
       "    <tr>\n",
       "      <th>2031</th>\n",
       "      <td>3</td>\n",
       "      <td>2018-09-25</td>\n",
       "      <td>233.30</td>\n",
       "      <td>236.75</td>\n",
       "      <td>232.00</td>\n",
       "      <td>236.25</td>\n",
       "      <td>236.10</td>\n",
       "      <td>2349368</td>\n",
       "      <td>5503.90</td>\n",
       "    </tr>\n",
       "    <tr>\n",
       "      <th>2032</th>\n",
       "      <td>2</td>\n",
       "      <td>2018-09-26</td>\n",
       "      <td>240.00</td>\n",
       "      <td>240.00</td>\n",
       "      <td>232.50</td>\n",
       "      <td>235.00</td>\n",
       "      <td>234.25</td>\n",
       "      <td>2240909</td>\n",
       "      <td>5248.60</td>\n",
       "    </tr>\n",
       "    <tr>\n",
       "      <th>2033</th>\n",
       "      <td>1</td>\n",
       "      <td>2018-09-27</td>\n",
       "      <td>234.55</td>\n",
       "      <td>236.80</td>\n",
       "      <td>231.10</td>\n",
       "      <td>233.80</td>\n",
       "      <td>233.25</td>\n",
       "      <td>5082859</td>\n",
       "      <td>11859.95</td>\n",
       "    </tr>\n",
       "    <tr>\n",
       "      <th>2034</th>\n",
       "      <td>0</td>\n",
       "      <td>2018-09-28</td>\n",
       "      <td>234.05</td>\n",
       "      <td>235.95</td>\n",
       "      <td>230.20</td>\n",
       "      <td>233.50</td>\n",
       "      <td>233.75</td>\n",
       "      <td>3069914</td>\n",
       "      <td>7162.35</td>\n",
       "    </tr>\n",
       "  </tbody>\n",
       "</table>\n",
       "<p>2035 rows × 9 columns</p>\n",
       "</div>"
      ],
      "text/plain": [
       "      index       Date    Open    High     Low    Last   Close  \\\n",
       "0      2034 2010-07-21  122.10  123.00  121.05  121.10  121.55   \n",
       "1      2033 2010-07-22  120.30  122.00  120.25  120.75  120.90   \n",
       "2      2032 2010-07-23  121.80  121.95  120.25  120.35  120.65   \n",
       "3      2031 2010-07-26  120.10  121.00  117.10  117.10  117.60   \n",
       "4      2030 2010-07-27  117.60  119.50  112.00  118.80  118.65   \n",
       "...     ...        ...     ...     ...     ...     ...     ...   \n",
       "2030      4 2018-09-24  233.55  239.20  230.75  234.00  233.30   \n",
       "2031      3 2018-09-25  233.30  236.75  232.00  236.25  236.10   \n",
       "2032      2 2018-09-26  240.00  240.00  232.50  235.00  234.25   \n",
       "2033      1 2018-09-27  234.55  236.80  231.10  233.80  233.25   \n",
       "2034      0 2018-09-28  234.05  235.95  230.20  233.50  233.75   \n",
       "\n",
       "      Total Trade Quantity  Turnover (Lacs)  \n",
       "0                   658666           803.56  \n",
       "1                   293312           355.17  \n",
       "2                   281312           340.31  \n",
       "3                   658440           780.01  \n",
       "4                   586100           694.98  \n",
       "...                    ...              ...  \n",
       "2030               3423509          7999.55  \n",
       "2031               2349368          5503.90  \n",
       "2032               2240909          5248.60  \n",
       "2033               5082859         11859.95  \n",
       "2034               3069914          7162.35  \n",
       "\n",
       "[2035 rows x 9 columns]"
      ]
     },
     "execution_count": 28,
     "metadata": {},
     "output_type": "execute_result"
    }
   ],
   "source": [
    "new_df.reset_index(inplace=True)\n",
    "new_df"
   ]
  },
  {
   "cell_type": "code",
   "execution_count": 29,
   "id": "f2cd9c29",
   "metadata": {},
   "outputs": [
    {
     "data": {
      "text/plain": [
       "0       121.55\n",
       "1       120.90\n",
       "2       120.65\n",
       "3       117.60\n",
       "4       118.65\n",
       "         ...  \n",
       "2030    233.30\n",
       "2031    236.10\n",
       "2032    234.25\n",
       "2033    233.25\n",
       "2034    233.75\n",
       "Name: Close, Length: 2035, dtype: float64"
      ]
     },
     "execution_count": 29,
     "metadata": {},
     "output_type": "execute_result"
    }
   ],
   "source": [
    "close_df=new_df['Close']\n",
    "close_df"
   ]
  },
  {
   "cell_type": "code",
   "execution_count": 30,
   "id": "937fc7d5",
   "metadata": {},
   "outputs": [
    {
     "data": {
      "text/plain": [
       "(2035,)"
      ]
     },
     "execution_count": 30,
     "metadata": {},
     "output_type": "execute_result"
    }
   ],
   "source": [
    "close_df.shape"
   ]
  },
  {
   "cell_type": "code",
   "execution_count": 31,
   "id": "4b3f3ac1",
   "metadata": {},
   "outputs": [
    {
     "data": {
      "text/plain": [
       "2035"
      ]
     },
     "execution_count": 31,
     "metadata": {},
     "output_type": "execute_result"
    }
   ],
   "source": [
    "close_df.size"
   ]
  },
  {
   "cell_type": "code",
   "execution_count": null,
   "id": "4ab6c5ea",
   "metadata": {},
   "outputs": [],
   "source": []
  },
  {
   "cell_type": "markdown",
   "id": "29193dd5",
   "metadata": {},
   "source": [
    "Min Max Scaler"
   ]
  },
  {
   "cell_type": "code",
   "execution_count": 32,
   "id": "5b2ec2f3",
   "metadata": {},
   "outputs": [
    {
     "data": {
      "text/plain": [
       "array([[0.16584967],\n",
       "       [0.16319444],\n",
       "       [0.1621732 ],\n",
       "       ...,\n",
       "       [0.62622549],\n",
       "       [0.62214052],\n",
       "       [0.62418301]])"
      ]
     },
     "execution_count": 32,
     "metadata": {},
     "output_type": "execute_result"
    }
   ],
   "source": [
    "scaler=MinMaxScaler(feature_range=(0,1))\n",
    "close_df=scaler.fit_transform(np.array(close_df).reshape(-1,1))\n",
    "close_df"
   ]
  },
  {
   "cell_type": "markdown",
   "id": "e9408507",
   "metadata": {},
   "source": [
    "# Train and Test Split"
   ]
  },
  {
   "cell_type": "code",
   "execution_count": 33,
   "id": "fffbb772",
   "metadata": {},
   "outputs": [],
   "source": [
    "training_size=int(len(close_df)*0.7)\n",
    "test_size=len(close_df)-training_size\n",
    "train_data, test_data=close_df[0:training_size,:], close_df[training_size:len(close_df),:1]"
   ]
  },
  {
   "cell_type": "code",
   "execution_count": 34,
   "id": "bbf822d0",
   "metadata": {},
   "outputs": [
    {
     "data": {
      "text/plain": [
       "((1424, 1), (2035, 1))"
      ]
     },
     "execution_count": 34,
     "metadata": {},
     "output_type": "execute_result"
    }
   ],
   "source": [
    "train_data.shape, close_df.shape"
   ]
  },
  {
   "cell_type": "code",
   "execution_count": 35,
   "id": "6ac7b4b0",
   "metadata": {},
   "outputs": [
    {
     "data": {
      "text/plain": [
       "(611, 1)"
      ]
     },
     "execution_count": 35,
     "metadata": {},
     "output_type": "execute_result"
    }
   ],
   "source": [
    "test_data.shape"
   ]
  },
  {
   "cell_type": "code",
   "execution_count": 36,
   "id": "50290125",
   "metadata": {},
   "outputs": [
    {
     "data": {
      "text/plain": [
       "numpy.ndarray"
      ]
     },
     "execution_count": 36,
     "metadata": {},
     "output_type": "execute_result"
    }
   ],
   "source": [
    "type(test_data)"
   ]
  },
  {
   "cell_type": "code",
   "execution_count": null,
   "id": "9ea8bccd",
   "metadata": {},
   "outputs": [],
   "source": []
  },
  {
   "cell_type": "code",
   "execution_count": 39,
   "id": "fc1a1955",
   "metadata": {},
   "outputs": [],
   "source": [
    "import numpy as np\n",
    "def create_dataset(dataset, time_step=1):\n",
    "    dataX=[]\n",
    "    dataY=[]\n",
    "    for i in range(len(dataset)-time_step-1):\n",
    "        a=dataset[i:(i+time_step),0]\n",
    "        dataX.append(a)\n",
    "        dataY.append(dataset[i+time_step, 0])\n",
    "        return np.array(dataX), np.array(dataY)\n"
   ]
  },
  {
   "cell_type": "code",
   "execution_count": 40,
   "id": "74cdee88-c877-4960-99bf-dd0aa2ca3167",
   "metadata": {},
   "outputs": [],
   "source": [
    "    time_step=100\n",
    "    X_train, y_train= create_dataset(train_data, time_step)\n",
    "X_test, y_test= create_dataset(test_data, time_step)"
   ]
  },
  {
   "cell_type": "code",
   "execution_count": 41,
   "id": "a6f7d2b6",
   "metadata": {},
   "outputs": [],
   "source": [
    "X_test, y_test= create_dataset(test_data, time_step)\n",
    "   "
   ]
  },
  {
   "cell_type": "code",
   "execution_count": 42,
   "id": "1c06e92a",
   "metadata": {},
   "outputs": [
    {
     "data": {
      "text/plain": [
       "(1,)"
      ]
     },
     "execution_count": 42,
     "metadata": {},
     "output_type": "execute_result"
    }
   ],
   "source": [
    "y_train.shape"
   ]
  },
  {
   "cell_type": "code",
   "execution_count": 43,
   "id": "c524a295",
   "metadata": {},
   "outputs": [
    {
     "data": {
      "text/plain": [
       "(1, 100)"
      ]
     },
     "execution_count": 43,
     "metadata": {},
     "output_type": "execute_result"
    }
   ],
   "source": [
    "X_train.shape"
   ]
  },
  {
   "cell_type": "code",
   "execution_count": 44,
   "id": "5e73278d",
   "metadata": {},
   "outputs": [
    {
     "name": "stdout",
     "output_type": "stream",
     "text": [
      "(1, 100)\n",
      "(1,)\n"
     ]
    },
    {
     "data": {
      "text/plain": [
       "(None, None)"
      ]
     },
     "execution_count": 44,
     "metadata": {},
     "output_type": "execute_result"
    }
   ],
   "source": [
    "print(X_test.shape), print(y_test.shape)"
   ]
  },
  {
   "cell_type": "code",
   "execution_count": 45,
   "id": "e75ae9cd",
   "metadata": {},
   "outputs": [],
   "source": [
    "X_train=X_train.reshape(X_train.shape[0], X_train.shape[1],1)\n",
    "X_test=X_test.reshape(X_test.shape[0],X_test.shape[1],1)"
   ]
  },
  {
   "cell_type": "code",
   "execution_count": null,
   "id": "e1e81e61",
   "metadata": {},
   "outputs": [],
   "source": []
  },
  {
   "cell_type": "code",
   "execution_count": 46,
   "id": "f785bb39",
   "metadata": {},
   "outputs": [],
   "source": [
    "from tensorflow.keras.models import Sequential\n",
    "from tensorflow.keras.layers import Dense\n",
    "from tensorflow.keras.layers import LSTM\n",
    "M= Sequential()\n",
    "M.add(LSTM(50, return_sequences=True,input_shape=(time_step,1)))\n",
    "M.add(LSTM(50,return_sequences=True))\n",
    "M.add(LSTM(50))\n",
    "M.add(Dense(1))\n",
    "M.compile(loss='mean_squared_error', optimizer='adam')"
   ]
  },
  {
   "cell_type": "code",
   "execution_count": null,
   "id": "244f6c5f",
   "metadata": {},
   "outputs": [],
   "source": []
  },
  {
   "cell_type": "code",
   "execution_count": 47,
   "id": "6555f014",
   "metadata": {},
   "outputs": [],
   "source": [
    "M = Sequential()\n",
    "M.add(LSTM(50, return_sequences=True, input_shape=(100,1)))\n",
    "M.add(LSTM(50, return_sequences=True, input_shape=(100,1)))\n",
    "M.add(LSTM(50))\n",
    "M.add(Dense(1))\n",
    "M.compile(loss='mean_squared_error', optimizer='adam', metrics='acc')"
   ]
  },
  {
   "cell_type": "code",
   "execution_count": 48,
   "id": "4afc8379",
   "metadata": {},
   "outputs": [
    {
     "name": "stdout",
     "output_type": "stream",
     "text": [
      "Model: \"sequential_1\"\n",
      "_________________________________________________________________\n",
      " Layer (type)                Output Shape              Param #   \n",
      "=================================================================\n",
      " lstm_3 (LSTM)               (None, 100, 50)           10400     \n",
      "                                                                 \n",
      " lstm_4 (LSTM)               (None, 100, 50)           20200     \n",
      "                                                                 \n",
      " lstm_5 (LSTM)               (None, 50)                20200     \n",
      "                                                                 \n",
      " dense_1 (Dense)             (None, 1)                 51        \n",
      "                                                                 \n",
      "=================================================================\n",
      "Total params: 50,851\n",
      "Trainable params: 50,851\n",
      "Non-trainable params: 0\n",
      "_________________________________________________________________\n"
     ]
    }
   ],
   "source": [
    "M.summary()"
   ]
  },
  {
   "cell_type": "code",
   "execution_count": 49,
   "id": "2dd17461",
   "metadata": {},
   "outputs": [
    {
     "name": "stdout",
     "output_type": "stream",
     "text": [
      "Epoch 1/100\n",
      "1/1 [==============================] - 19s 19s/step - loss: 0.0153 - acc: 0.0000e+00 - val_loss: 0.0488 - val_acc: 0.0000e+00\n",
      "Epoch 2/100\n",
      "1/1 [==============================] - 0s 211ms/step - loss: 0.0098 - acc: 0.0000e+00 - val_loss: 0.0359 - val_acc: 0.0000e+00\n",
      "Epoch 3/100\n",
      "1/1 [==============================] - 0s 214ms/step - loss: 0.0054 - acc: 0.0000e+00 - val_loss: 0.0239 - val_acc: 0.0000e+00\n",
      "Epoch 4/100\n",
      "1/1 [==============================] - 0s 208ms/step - loss: 0.0020 - acc: 0.0000e+00 - val_loss: 0.0129 - val_acc: 0.0000e+00\n",
      "Epoch 5/100\n",
      "1/1 [==============================] - 0s 211ms/step - loss: 1.1458e-04 - acc: 0.0000e+00 - val_loss: 0.0047 - val_acc: 0.0000e+00\n",
      "Epoch 6/100\n",
      "1/1 [==============================] - 0s 218ms/step - loss: 7.2785e-04 - acc: 0.0000e+00 - val_loss: 0.0019 - val_acc: 0.0000e+00\n",
      "Epoch 7/100\n",
      "1/1 [==============================] - 0s 217ms/step - loss: 0.0023 - acc: 0.0000e+00 - val_loss: 0.0021 - val_acc: 0.0000e+00\n",
      "Epoch 8/100\n",
      "1/1 [==============================] - 0s 210ms/step - loss: 0.0021 - acc: 0.0000e+00 - val_loss: 0.0038 - val_acc: 0.0000e+00\n",
      "Epoch 9/100\n",
      "1/1 [==============================] - 0s 207ms/step - loss: 0.0010 - acc: 0.0000e+00 - val_loss: 0.0066 - val_acc: 0.0000e+00\n",
      "Epoch 10/100\n",
      "1/1 [==============================] - 0s 212ms/step - loss: 2.4542e-04 - acc: 0.0000e+00 - val_loss: 0.0099 - val_acc: 0.0000e+00\n",
      "Epoch 11/100\n",
      "1/1 [==============================] - 0s 203ms/step - loss: 6.5655e-08 - acc: 0.0000e+00 - val_loss: 0.0130 - val_acc: 0.0000e+00\n",
      "Epoch 12/100\n",
      "1/1 [==============================] - 0s 214ms/step - loss: 1.4584e-04 - acc: 0.0000e+00 - val_loss: 0.0155 - val_acc: 0.0000e+00\n",
      "Epoch 13/100\n",
      "1/1 [==============================] - 0s 213ms/step - loss: 4.2504e-04 - acc: 0.0000e+00 - val_loss: 0.0170 - val_acc: 0.0000e+00\n",
      "Epoch 14/100\n",
      "1/1 [==============================] - 0s 203ms/step - loss: 6.4310e-04 - acc: 0.0000e+00 - val_loss: 0.0175 - val_acc: 0.0000e+00\n",
      "Epoch 15/100\n",
      "1/1 [==============================] - 0s 213ms/step - loss: 7.1419e-04 - acc: 0.0000e+00 - val_loss: 0.0171 - val_acc: 0.0000e+00\n",
      "Epoch 16/100\n",
      "1/1 [==============================] - 0s 208ms/step - loss: 6.4050e-04 - acc: 0.0000e+00 - val_loss: 0.0161 - val_acc: 0.0000e+00\n",
      "Epoch 17/100\n",
      "1/1 [==============================] - 0s 205ms/step - loss: 4.7212e-04 - acc: 0.0000e+00 - val_loss: 0.0147 - val_acc: 0.0000e+00\n",
      "Epoch 18/100\n",
      "1/1 [==============================] - 0s 207ms/step - loss: 2.7462e-04 - acc: 0.0000e+00 - val_loss: 0.0131 - val_acc: 0.0000e+00\n",
      "Epoch 19/100\n",
      "1/1 [==============================] - 0s 198ms/step - loss: 1.0815e-04 - acc: 0.0000e+00 - val_loss: 0.0115 - val_acc: 0.0000e+00\n",
      "Epoch 20/100\n",
      "1/1 [==============================] - 0s 214ms/step - loss: 1.4296e-05 - acc: 0.0000e+00 - val_loss: 0.0100 - val_acc: 0.0000e+00\n",
      "Epoch 21/100\n",
      "1/1 [==============================] - 0s 205ms/step - loss: 7.1484e-06 - acc: 0.0000e+00 - val_loss: 0.0087 - val_acc: 0.0000e+00\n",
      "Epoch 22/100\n",
      "1/1 [==============================] - 0s 215ms/step - loss: 6.9158e-05 - acc: 0.0000e+00 - val_loss: 0.0079 - val_acc: 0.0000e+00\n",
      "Epoch 23/100\n",
      "1/1 [==============================] - 0s 211ms/step - loss: 1.5696e-04 - acc: 0.0000e+00 - val_loss: 0.0074 - val_acc: 0.0000e+00\n",
      "Epoch 24/100\n",
      "1/1 [==============================] - 0s 163ms/step - loss: 2.2095e-04 - acc: 0.0000e+00 - val_loss: 0.0074 - val_acc: 0.0000e+00\n",
      "Epoch 25/100\n",
      "1/1 [==============================] - 0s 201ms/step - loss: 2.3062e-04 - acc: 0.0000e+00 - val_loss: 0.0077 - val_acc: 0.0000e+00\n",
      "Epoch 26/100\n",
      "1/1 [==============================] - 0s 217ms/step - loss: 1.8753e-04 - acc: 0.0000e+00 - val_loss: 0.0084 - val_acc: 0.0000e+00\n",
      "Epoch 27/100\n",
      "1/1 [==============================] - 0s 216ms/step - loss: 1.1745e-04 - acc: 0.0000e+00 - val_loss: 0.0092 - val_acc: 0.0000e+00\n",
      "Epoch 28/100\n",
      "1/1 [==============================] - 0s 217ms/step - loss: 5.1402e-05 - acc: 0.0000e+00 - val_loss: 0.0101 - val_acc: 0.0000e+00\n",
      "Epoch 29/100\n",
      "1/1 [==============================] - 0s 211ms/step - loss: 1.0423e-05 - acc: 0.0000e+00 - val_loss: 0.0110 - val_acc: 0.0000e+00\n",
      "Epoch 30/100\n",
      "1/1 [==============================] - 0s 205ms/step - loss: 2.9090e-07 - acc: 0.0000e+00 - val_loss: 0.0118 - val_acc: 0.0000e+00\n",
      "Epoch 31/100\n",
      "1/1 [==============================] - 0s 207ms/step - loss: 1.4476e-05 - acc: 0.0000e+00 - val_loss: 0.0125 - val_acc: 0.0000e+00\n",
      "Epoch 32/100\n",
      "1/1 [==============================] - 0s 210ms/step - loss: 4.0370e-05 - acc: 0.0000e+00 - val_loss: 0.0130 - val_acc: 0.0000e+00\n",
      "Epoch 33/100\n",
      "1/1 [==============================] - 0s 208ms/step - loss: 6.5154e-05 - acc: 0.0000e+00 - val_loss: 0.0132 - val_acc: 0.0000e+00\n",
      "Epoch 34/100\n",
      "1/1 [==============================] - 0s 203ms/step - loss: 7.9645e-05 - acc: 0.0000e+00 - val_loss: 0.0133 - val_acc: 0.0000e+00\n",
      "Epoch 35/100\n",
      "1/1 [==============================] - 0s 211ms/step - loss: 7.9944e-05 - acc: 0.0000e+00 - val_loss: 0.0131 - val_acc: 0.0000e+00\n",
      "Epoch 36/100\n",
      "1/1 [==============================] - 0s 204ms/step - loss: 6.7284e-05 - acc: 0.0000e+00 - val_loss: 0.0127 - val_acc: 0.0000e+00\n",
      "Epoch 37/100\n",
      "1/1 [==============================] - 0s 214ms/step - loss: 4.6678e-05 - acc: 0.0000e+00 - val_loss: 0.0123 - val_acc: 0.0000e+00\n",
      "Epoch 38/100\n",
      "1/1 [==============================] - 0s 215ms/step - loss: 2.4872e-05 - acc: 0.0000e+00 - val_loss: 0.0118 - val_acc: 0.0000e+00\n",
      "Epoch 39/100\n",
      "1/1 [==============================] - 0s 209ms/step - loss: 8.1421e-06 - acc: 0.0000e+00 - val_loss: 0.0112 - val_acc: 0.0000e+00\n",
      "Epoch 40/100\n",
      "1/1 [==============================] - 0s 185ms/step - loss: 4.0314e-07 - acc: 0.0000e+00 - val_loss: 0.0107 - val_acc: 0.0000e+00\n",
      "Epoch 41/100\n",
      "1/1 [==============================] - 0s 224ms/step - loss: 2.1296e-06 - acc: 0.0000e+00 - val_loss: 0.0103 - val_acc: 0.0000e+00\n",
      "Epoch 42/100\n",
      "1/1 [==============================] - 0s 219ms/step - loss: 1.0459e-05 - acc: 0.0000e+00 - val_loss: 0.0100 - val_acc: 0.0000e+00\n",
      "Epoch 43/100\n",
      "1/1 [==============================] - 0s 212ms/step - loss: 2.0524e-05 - acc: 0.0000e+00 - val_loss: 0.0099 - val_acc: 0.0000e+00\n",
      "Epoch 44/100\n",
      "1/1 [==============================] - 0s 217ms/step - loss: 2.7519e-05 - acc: 0.0000e+00 - val_loss: 0.0099 - val_acc: 0.0000e+00\n",
      "Epoch 45/100\n",
      "1/1 [==============================] - 0s 213ms/step - loss: 2.8621e-05 - acc: 0.0000e+00 - val_loss: 0.0100 - val_acc: 0.0000e+00\n",
      "Epoch 46/100\n",
      "1/1 [==============================] - 0s 210ms/step - loss: 2.3863e-05 - acc: 0.0000e+00 - val_loss: 0.0102 - val_acc: 0.0000e+00\n",
      "Epoch 47/100\n",
      "1/1 [==============================] - 0s 205ms/step - loss: 1.5649e-05 - acc: 0.0000e+00 - val_loss: 0.0105 - val_acc: 0.0000e+00\n",
      "Epoch 48/100\n",
      "1/1 [==============================] - 0s 179ms/step - loss: 7.3424e-06 - acc: 0.0000e+00 - val_loss: 0.0108 - val_acc: 0.0000e+00\n",
      "Epoch 49/100\n",
      "1/1 [==============================] - 0s 158ms/step - loss: 1.7195e-06 - acc: 0.0000e+00 - val_loss: 0.0112 - val_acc: 0.0000e+00\n",
      "Epoch 50/100\n",
      "1/1 [==============================] - 0s 202ms/step - loss: 6.1610e-09 - acc: 0.0000e+00 - val_loss: 0.0115 - val_acc: 0.0000e+00\n",
      "Epoch 51/100\n",
      "1/1 [==============================] - 0s 198ms/step - loss: 1.7420e-06 - acc: 0.0000e+00 - val_loss: 0.0117 - val_acc: 0.0000e+00\n",
      "Epoch 52/100\n",
      "1/1 [==============================] - 0s 212ms/step - loss: 5.3137e-06 - acc: 0.0000e+00 - val_loss: 0.0119 - val_acc: 0.0000e+00\n",
      "Epoch 53/100\n",
      "1/1 [==============================] - 0s 191ms/step - loss: 8.7847e-06 - acc: 0.0000e+00 - val_loss: 0.0120 - val_acc: 0.0000e+00\n",
      "Epoch 54/100\n",
      "1/1 [==============================] - 0s 200ms/step - loss: 1.0652e-05 - acc: 0.0000e+00 - val_loss: 0.0120 - val_acc: 0.0000e+00\n",
      "Epoch 55/100\n",
      "1/1 [==============================] - 0s 175ms/step - loss: 1.0295e-05 - acc: 0.0000e+00 - val_loss: 0.0119 - val_acc: 0.0000e+00\n",
      "Epoch 56/100\n",
      "1/1 [==============================] - 0s 179ms/step - loss: 8.0349e-06 - acc: 0.0000e+00 - val_loss: 0.0117 - val_acc: 0.0000e+00\n",
      "Epoch 57/100\n",
      "1/1 [==============================] - 0s 210ms/step - loss: 4.8614e-06 - acc: 0.0000e+00 - val_loss: 0.0115 - val_acc: 0.0000e+00\n",
      "Epoch 58/100\n",
      "1/1 [==============================] - 0s 214ms/step - loss: 1.9681e-06 - acc: 0.0000e+00 - val_loss: 0.0113 - val_acc: 0.0000e+00\n",
      "Epoch 59/100\n",
      "1/1 [==============================] - 0s 178ms/step - loss: 2.7476e-07 - acc: 0.0000e+00 - val_loss: 0.0111 - val_acc: 0.0000e+00\n",
      "Epoch 60/100\n",
      "1/1 [==============================] - 0s 172ms/step - loss: 1.1080e-07 - acc: 0.0000e+00 - val_loss: 0.0110 - val_acc: 0.0000e+00\n",
      "Epoch 61/100\n",
      "1/1 [==============================] - 0s 202ms/step - loss: 1.1602e-06 - acc: 0.0000e+00 - val_loss: 0.0108 - val_acc: 0.0000e+00\n",
      "Epoch 62/100\n",
      "1/1 [==============================] - 0s 189ms/step - loss: 2.6728e-06 - acc: 0.0000e+00 - val_loss: 0.0107 - val_acc: 0.0000e+00\n",
      "Epoch 63/100\n",
      "1/1 [==============================] - 0s 215ms/step - loss: 3.8335e-06 - acc: 0.0000e+00 - val_loss: 0.0107 - val_acc: 0.0000e+00\n",
      "Epoch 64/100\n",
      "1/1 [==============================] - 0s 199ms/step - loss: 4.1155e-06 - acc: 0.0000e+00 - val_loss: 0.0108 - val_acc: 0.0000e+00\n",
      "Epoch 65/100\n",
      "1/1 [==============================] - 0s 207ms/step - loss: 3.4622e-06 - acc: 0.0000e+00 - val_loss: 0.0109 - val_acc: 0.0000e+00\n",
      "Epoch 66/100\n",
      "1/1 [==============================] - 0s 210ms/step - loss: 2.2348e-06 - acc: 0.0000e+00 - val_loss: 0.0110 - val_acc: 0.0000e+00\n",
      "Epoch 67/100\n",
      "1/1 [==============================] - 0s 203ms/step - loss: 9.8446e-07 - acc: 0.0000e+00 - val_loss: 0.0111 - val_acc: 0.0000e+00\n",
      "Epoch 68/100\n",
      "1/1 [==============================] - 0s 191ms/step - loss: 1.7960e-07 - acc: 0.0000e+00 - val_loss: 0.0113 - val_acc: 0.0000e+00\n",
      "Epoch 69/100\n",
      "1/1 [==============================] - 0s 202ms/step - loss: 1.9141e-08 - acc: 0.0000e+00 - val_loss: 0.0114 - val_acc: 0.0000e+00\n",
      "Epoch 70/100\n",
      "1/1 [==============================] - 0s 203ms/step - loss: 3.9710e-07 - acc: 0.0000e+00 - val_loss: 0.0115 - val_acc: 0.0000e+00\n",
      "Epoch 71/100\n",
      "1/1 [==============================] - 0s 202ms/step - loss: 1.0039e-06 - acc: 0.0000e+00 - val_loss: 0.0115 - val_acc: 0.0000e+00\n",
      "Epoch 72/100\n",
      "1/1 [==============================] - 0s 188ms/step - loss: 1.4940e-06 - acc: 0.0000e+00 - val_loss: 0.0115 - val_acc: 0.0000e+00\n",
      "Epoch 73/100\n",
      "1/1 [==============================] - 0s 185ms/step - loss: 1.6378e-06 - acc: 0.0000e+00 - val_loss: 0.0115 - val_acc: 0.0000e+00\n",
      "Epoch 74/100\n",
      "1/1 [==============================] - 0s 214ms/step - loss: 1.3976e-06 - acc: 0.0000e+00 - val_loss: 0.0115 - val_acc: 0.0000e+00\n",
      "Epoch 75/100\n",
      "1/1 [==============================] - 0s 221ms/step - loss: 9.1075e-07 - acc: 0.0000e+00 - val_loss: 0.0114 - val_acc: 0.0000e+00\n",
      "Epoch 76/100\n",
      "1/1 [==============================] - 0s 205ms/step - loss: 4.0193e-07 - acc: 0.0000e+00 - val_loss: 0.0113 - val_acc: 0.0000e+00\n",
      "Epoch 77/100\n",
      "1/1 [==============================] - 0s 230ms/step - loss: 7.1257e-08 - acc: 0.0000e+00 - val_loss: 0.0112 - val_acc: 0.0000e+00\n",
      "Epoch 78/100\n",
      "1/1 [==============================] - 0s 223ms/step - loss: 9.7442e-09 - acc: 0.0000e+00 - val_loss: 0.0111 - val_acc: 0.0000e+00\n",
      "Epoch 79/100\n",
      "1/1 [==============================] - 0s 203ms/step - loss: 1.7511e-07 - acc: 0.0000e+00 - val_loss: 0.0111 - val_acc: 0.0000e+00\n",
      "Epoch 80/100\n",
      "1/1 [==============================] - 0s 191ms/step - loss: 4.3113e-07 - acc: 0.0000e+00 - val_loss: 0.0110 - val_acc: 0.0000e+00\n",
      "Epoch 81/100\n",
      "1/1 [==============================] - 0s 187ms/step - loss: 6.2463e-07 - acc: 0.0000e+00 - val_loss: 0.0110 - val_acc: 0.0000e+00\n",
      "Epoch 82/100\n",
      "1/1 [==============================] - 0s 205ms/step - loss: 6.5900e-07 - acc: 0.0000e+00 - val_loss: 0.0111 - val_acc: 0.0000e+00\n",
      "Epoch 83/100\n",
      "1/1 [==============================] - 0s 211ms/step - loss: 5.3014e-07 - acc: 0.0000e+00 - val_loss: 0.0111 - val_acc: 0.0000e+00\n",
      "Epoch 84/100\n",
      "1/1 [==============================] - 0s 211ms/step - loss: 3.1312e-07 - acc: 0.0000e+00 - val_loss: 0.0112 - val_acc: 0.0000e+00\n",
      "Epoch 85/100\n",
      "1/1 [==============================] - 0s 215ms/step - loss: 1.1257e-07 - acc: 0.0000e+00 - val_loss: 0.0112 - val_acc: 0.0000e+00\n",
      "Epoch 86/100\n",
      "1/1 [==============================] - 0s 226ms/step - loss: 8.0778e-09 - acc: 0.0000e+00 - val_loss: 0.0113 - val_acc: 0.0000e+00\n",
      "Epoch 87/100\n",
      "1/1 [==============================] - 0s 216ms/step - loss: 2.0671e-08 - acc: 0.0000e+00 - val_loss: 0.0113 - val_acc: 0.0000e+00\n",
      "Epoch 88/100\n",
      "1/1 [==============================] - 0s 209ms/step - loss: 1.1322e-07 - acc: 0.0000e+00 - val_loss: 0.0114 - val_acc: 0.0000e+00\n",
      "Epoch 89/100\n",
      "1/1 [==============================] - 0s 201ms/step - loss: 2.1819e-07 - acc: 0.0000e+00 - val_loss: 0.0114 - val_acc: 0.0000e+00\n",
      "Epoch 90/100\n",
      "1/1 [==============================] - 0s 185ms/step - loss: 2.7499e-07 - acc: 0.0000e+00 - val_loss: 0.0114 - val_acc: 0.0000e+00\n",
      "Epoch 91/100\n",
      "1/1 [==============================] - 0s 223ms/step - loss: 2.5765e-07 - acc: 0.0000e+00 - val_loss: 0.0113 - val_acc: 0.0000e+00\n",
      "Epoch 92/100\n",
      "1/1 [==============================] - 0s 209ms/step - loss: 1.8106e-07 - acc: 0.0000e+00 - val_loss: 0.0113 - val_acc: 0.0000e+00\n",
      "Epoch 93/100\n",
      "1/1 [==============================] - 0s 218ms/step - loss: 8.6831e-08 - acc: 0.0000e+00 - val_loss: 0.0113 - val_acc: 0.0000e+00\n",
      "Epoch 94/100\n",
      "1/1 [==============================] - 0s 214ms/step - loss: 1.8727e-08 - acc: 0.0000e+00 - val_loss: 0.0112 - val_acc: 0.0000e+00\n",
      "Epoch 95/100\n",
      "1/1 [==============================] - 0s 205ms/step - loss: 6.0378e-10 - acc: 0.0000e+00 - val_loss: 0.0112 - val_acc: 0.0000e+00\n",
      "Epoch 96/100\n",
      "1/1 [==============================] - 0s 207ms/step - loss: 2.8033e-08 - acc: 0.0000e+00 - val_loss: 0.0112 - val_acc: 0.0000e+00\n",
      "Epoch 97/100\n",
      "1/1 [==============================] - 0s 212ms/step - loss: 7.5049e-08 - acc: 0.0000e+00 - val_loss: 0.0112 - val_acc: 0.0000e+00\n",
      "Epoch 98/100\n",
      "1/1 [==============================] - 0s 210ms/step - loss: 1.1070e-07 - acc: 0.0000e+00 - val_loss: 0.0112 - val_acc: 0.0000e+00\n",
      "Epoch 99/100\n",
      "1/1 [==============================] - 0s 214ms/step - loss: 1.1554e-07 - acc: 0.0000e+00 - val_loss: 0.0112 - val_acc: 0.0000e+00\n",
      "Epoch 100/100\n",
      "1/1 [==============================] - 0s 206ms/step - loss: 8.9481e-08 - acc: 0.0000e+00 - val_loss: 0.0112 - val_acc: 0.0000e+00\n"
     ]
    }
   ],
   "source": [
    "M.fit(X_train, y_train, validation_data = (X_test, y_test), epochs =100, batch_size = 64, verbose = 1);"
   ]
  },
  {
   "cell_type": "markdown",
   "id": "b2a9e8d9",
   "metadata": {},
   "source": [
    "#### Evaluation of constructed LSTM model\n"
   ]
  },
  {
   "cell_type": "code",
   "execution_count": 51,
   "id": "f74145ec",
   "metadata": {},
   "outputs": [
    {
     "data": {
      "image/png": "[encoded data removed]",
      "text/plain": [
       "<Figure size 640x480 with 1 Axes>"
      ]
     },
     "metadata": {},
     "output_type": "display_data"
    }
   ],
   "source": [
    "loss=M.history.history['loss']\n",
    "plt.plot(loss)\n",
    "plt.xlabel(\"No.of iteration...\")\n",
    "plt.ylabel(\"loss value...\")\n",
    "plt.title(\"variation of loss value with No. of iteration\",color=\"orange\",fontsize=16,fontweight=\"bold\");"
   ]
  },
  {
   "cell_type": "markdown",
   "id": "0b0bd682",
   "metadata": {},
   "source": [
    "Through above graph we observe that through the increase in iteration there is the decrease in loss"
   ]
  },
  {
   "cell_type": "markdown",
   "id": "799cd3f7",
   "metadata": {},
   "source": [
    "##### Evaluation of our constructed model on train and test data"
   ]
  },
  {
   "cell_type": "code",
   "execution_count": 52,
   "id": "7d147b3c",
   "metadata": {},
   "outputs": [
    {
     "name": "stdout",
     "output_type": "stream",
     "text": [
      "1/1 [==============================] - 3s 3s/step\n"
     ]
    }
   ],
   "source": [
    "train_predict1=M.predict(X_train)"
   ]
  },
  {
   "cell_type": "code",
   "execution_count": 53,
   "id": "305d8749",
   "metadata": {},
   "outputs": [
    {
     "name": "stdout",
     "output_type": "stream",
     "text": [
      "1/1 [==============================] - 0s 66ms/step\n"
     ]
    }
   ],
   "source": [
    "test_predict1=M.predict(X_test)"
   ]
  },
  {
   "cell_type": "code",
   "execution_count": 54,
   "id": "ad044402",
   "metadata": {},
   "outputs": [],
   "source": [
    "train_predict1=scaler.inverse_transform(train_predict1)\n",
    "test_predict1=scaler.inverse_transform(test_predict1)"
   ]
  },
  {
   "cell_type": "code",
   "execution_count": 55,
   "id": "78046b65",
   "metadata": {},
   "outputs": [
    {
     "data": {
      "text/plain": [
       "110.88143352433747"
      ]
     },
     "execution_count": 55,
     "metadata": {},
     "output_type": "execute_result"
    }
   ],
   "source": [
    "import math\n",
    "from sklearn.metrics import mean_squared_error\n",
    "math.sqrt(mean_squared_error(y_train,train_predict1))"
   ]
  },
  {
   "cell_type": "code",
   "execution_count": 56,
   "id": "87f2a071",
   "metadata": {},
   "outputs": [
    {
     "data": {
      "text/plain": [
       "116.05677206999336"
      ]
     },
     "execution_count": 56,
     "metadata": {},
     "output_type": "execute_result"
    }
   ],
   "source": [
    "math.sqrt(mean_squared_error(y_test,test_predict1))"
   ]
  },
  {
   "cell_type": "code",
   "execution_count": 57,
   "id": "a2b5011f",
   "metadata": {},
   "outputs": [
    {
     "data": {
      "text/plain": [
       "array([[0.16584967],\n",
       "       [0.16319444],\n",
       "       [0.1621732 ],\n",
       "       ...,\n",
       "       [0.62622549],\n",
       "       [0.62214052],\n",
       "       [0.62418301]])"
      ]
     },
     "execution_count": 57,
     "metadata": {},
     "output_type": "execute_result"
    }
   ],
   "source": [
    "close_df"
   ]
  },
  {
   "cell_type": "code",
   "execution_count": 58,
   "id": "17c43ce1",
   "metadata": {},
   "outputs": [
    {
     "data": {
      "text/plain": [
       "(1, 1)"
      ]
     },
     "execution_count": 58,
     "metadata": {},
     "output_type": "execute_result"
    }
   ],
   "source": [
    "train_predict1.shape"
   ]
  },
  {
   "cell_type": "markdown",
   "id": "d667d6cb",
   "metadata": {},
   "source": [
    "#### Plotting"
   ]
  },
  {
   "cell_type": "code",
   "execution_count": 59,
   "id": "3fe4aaa8",
   "metadata": {},
   "outputs": [],
   "source": [
    "# shift train predictions for plotting\n",
    "look_back=100\n",
    "trainPredictPlot = np.empty_like(close_df)\n",
    "trainPredictPlot[:, :] = np.nan\n",
    "trainPredictPlot[look_back:len(train_predict1)+look_back, :] = train_predict1\n",
    "\n",
    "# shift test predictions for plotting\n",
    "testPredictPlot = np.empty_like(close_df)\n",
    "testPredictPlot[:, :] = np.nan\n",
    "testPredictPlot[len(train_predict1)+(look_back*2)+1:len(df)-1, :] = test_predict1"
   ]
  },
  {
   "cell_type": "code",
   "execution_count": 60,
   "id": "222708d1",
   "metadata": {},
   "outputs": [
    {
     "data": {
      "text/plain": [
       "Text(0, 0.5, 'closing price')"
      ]
     },
     "execution_count": 60,
     "metadata": {},
     "output_type": "execute_result"
    },
    {
     "data": {
      "image/png": "[encoded data removed]",
      "text/plain": [
       "<Figure size 1000x500 with 1 Axes>"
      ]
     },
     "metadata": {},
     "output_type": "display_data"
    }
   ],
   "source": [
    "# plot baseline and predictions\n",
    "plt.figure(figsize=(10,5))\n",
    "plt.plot(scaler.inverse_transform(close_df))\n",
    "plt.title(\"variation of actual dataset\",color=\"orange\",fontsize=16,fontweight=\"bold\")\n",
    "plt.xlabel(\"data index number\")\n",
    "plt.ylabel(\"closing price\")"
   ]
  },
  {
   "cell_type": "code",
   "execution_count": 61,
   "id": "81d327f7",
   "metadata": {},
   "outputs": [
    {
     "data": {
      "text/plain": [
       "Text(0, 0.5, 'closing price')"
      ]
     },
     "execution_count": 61,
     "metadata": {},
     "output_type": "execute_result"
    },
    {
     "data": {
      "image/png": "[encoded data removed]",
      "text/plain": [
       "<Figure size 640x480 with 1 Axes>"
      ]
     },
     "metadata": {},
     "output_type": "display_data"
    }
   ],
   "source": [
    "#plot of predictions on closing price made by our model on training dataset vs actual closing price\n",
    "plt.plot(scaler.inverse_transform(close_df))\n",
    "plt.plot(trainPredictPlot)\n",
    "plt.title(\"variation of predicted trained dataset(orange) and actual dataset(lightblue)\",color=\"orange\",fontsize=16,fontweight=\"bold\")\n",
    "plt.xlabel(\"data index number\")\n",
    "plt.ylabel(\"closing price\")"
   ]
  },
  {
   "cell_type": "code",
   "execution_count": 62,
   "id": "0579afdc",
   "metadata": {},
   "outputs": [
    {
     "data": {
      "image/png": "[encoded data removed]",
      "text/plain": [
       "<Figure size 640x480 with 1 Axes>"
      ]
     },
     "metadata": {},
     "output_type": "display_data"
    }
   ],
   "source": [
    "\n",
    "#plot of prediction on closing price made by our model on training dataset vs actual closing price\n",
    "#vs prediction on closing price made by our model on test dataset\n",
    "plt.plot(scaler.inverse_transform(close_df))\n",
    "plt.plot(trainPredictPlot)\n",
    "plt.title(\"variation of predicted tested dataset(green) and actual dataset(lightblue)\",color=\"green\",fontsize=16,fontweight=\"bold\")\n",
    "plt.xlabel(\"data index number\")\n",
    "plt.ylabel(\"closing price\")\n",
    "plt.plot(testPredictPlot)\n",
    "plt.show()"
   ]
  },
  {
   "cell_type": "markdown",
   "id": "a726c84c",
   "metadata": {},
   "source": [
    "###### since our model trained with first 100 data inputs and start predicting from 101 onwards so orange starts from 101 dataindex no. , similar logic for test data"
   ]
  },
  {
   "cell_type": "markdown",
   "id": "ea680943",
   "metadata": {},
   "source": [
    "light blue=-actual closing price\n",
    "\n",
    "orange=prediction on closing price made by our model on training dataset\n",
    "\n",
    "green=prediction on closing price made by model on test dataset"
   ]
  },
  {
   "cell_type": "code",
   "execution_count": null,
   "id": "e711ceb8",
   "metadata": {},
   "outputs": [],
   "source": []
  }
 ],
 "metadata": {
  "kernelspec": {
   "display_name": "Python 3 (ipykernel)",
   "language": "python",
   "name": "python3"
  },
  "language_info": {
   "codemirror_mode": {
    "name": "ipython",
    "version": 3
   },
   "file_extension": ".py",
   "mimetype": "text/x-python",
   "name": "python",
   "nbconvert_exporter": "python",
   "pygments_lexer": "ipython3",
   "version": "3.10.12"
  }
 },
 "nbformat": 4,
 "nbformat_minor": 5
}
